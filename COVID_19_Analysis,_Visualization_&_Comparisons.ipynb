{
  "cells": [
    {
      "source": [
        "\n",
        "import kagglehub\n",
        "organizations_unsdsn_world_happiness_path = kagglehub.dataset_download('organizations/unsdsn/world-happiness')\n",
        "brendaso_2019_coronavirus_dataset_01212020_01262020_path = kagglehub.dataset_download('brendaso/2019-coronavirus-dataset-01212020-01262020')\n",
        "tanuprabhu_population_by_country_2020_path = kagglehub.dataset_download('tanuprabhu/population-by-country-2020')\n",
        "sudalairajkumar_novel_corona_virus_2019_dataset_path = kagglehub.dataset_download('sudalairajkumar/novel-corona-virus-2019-dataset')\n",
        "imdevskp_corona_virus_report_path = kagglehub.dataset_download('imdevskp/corona-virus-report')\n",
        "\n",
        "print('Data source import complete.')\n"
      ],
      "metadata": {
        "id": "tt8PMJcIoyId",
        "outputId": "561fe36c-cd60-4391-c59b-0e06ac35cdfe",
        "colab": {
          "base_uri": "https://localhost:8080/",
          "height": 356
        }
      },
      "cell_type": "code",
      "outputs": [
        {
          "output_type": "error",
          "ename": "ValueError",
          "evalue": "Invalid dataset handle: organizations/unsdsn/world-happiness",
          "traceback": [
            "\u001b[0;31m---------------------------------------------------------------------------\u001b[0m",
            "\u001b[0;31mValueError\u001b[0m                                Traceback (most recent call last)",
            "\u001b[0;32m<ipython-input-1-460f09ec0185>\u001b[0m in \u001b[0;36m<cell line: 0>\u001b[0;34m()\u001b[0m\n\u001b[1;32m      1\u001b[0m \u001b[0;32mimport\u001b[0m \u001b[0mkagglehub\u001b[0m\u001b[0;34m\u001b[0m\u001b[0;34m\u001b[0m\u001b[0m\n\u001b[0;32m----> 2\u001b[0;31m \u001b[0morganizations_unsdsn_world_happiness_path\u001b[0m \u001b[0;34m=\u001b[0m \u001b[0mkagglehub\u001b[0m\u001b[0;34m.\u001b[0m\u001b[0mdataset_download\u001b[0m\u001b[0;34m(\u001b[0m\u001b[0;34m'organizations/unsdsn/world-happiness'\u001b[0m\u001b[0;34m)\u001b[0m\u001b[0;34m\u001b[0m\u001b[0;34m\u001b[0m\u001b[0m\n\u001b[0m\u001b[1;32m      3\u001b[0m \u001b[0mbrendaso_2019_coronavirus_dataset_01212020_01262020_path\u001b[0m \u001b[0;34m=\u001b[0m \u001b[0mkagglehub\u001b[0m\u001b[0;34m.\u001b[0m\u001b[0mdataset_download\u001b[0m\u001b[0;34m(\u001b[0m\u001b[0;34m'brendaso/2019-coronavirus-dataset-01212020-01262020'\u001b[0m\u001b[0;34m)\u001b[0m\u001b[0;34m\u001b[0m\u001b[0;34m\u001b[0m\u001b[0m\n\u001b[1;32m      4\u001b[0m \u001b[0mtanuprabhu_population_by_country_2020_path\u001b[0m \u001b[0;34m=\u001b[0m \u001b[0mkagglehub\u001b[0m\u001b[0;34m.\u001b[0m\u001b[0mdataset_download\u001b[0m\u001b[0;34m(\u001b[0m\u001b[0;34m'tanuprabhu/population-by-country-2020'\u001b[0m\u001b[0;34m)\u001b[0m\u001b[0;34m\u001b[0m\u001b[0;34m\u001b[0m\u001b[0m\n\u001b[1;32m      5\u001b[0m \u001b[0msudalairajkumar_novel_corona_virus_2019_dataset_path\u001b[0m \u001b[0;34m=\u001b[0m \u001b[0mkagglehub\u001b[0m\u001b[0;34m.\u001b[0m\u001b[0mdataset_download\u001b[0m\u001b[0;34m(\u001b[0m\u001b[0;34m'sudalairajkumar/novel-corona-virus-2019-dataset'\u001b[0m\u001b[0;34m)\u001b[0m\u001b[0;34m\u001b[0m\u001b[0;34m\u001b[0m\u001b[0m\n",
            "\u001b[0;32m/usr/local/lib/python3.11/dist-packages/kagglehub/datasets.py\u001b[0m in \u001b[0;36mdataset_download\u001b[0;34m(handle, path, force_download)\u001b[0m\n\u001b[1;32m     39\u001b[0m         \u001b[0mA\u001b[0m \u001b[0mstring\u001b[0m \u001b[0mrequesting\u001b[0m \u001b[0mthe\u001b[0m \u001b[0mpath\u001b[0m \u001b[0mto\u001b[0m \u001b[0mthe\u001b[0m \u001b[0mrequested\u001b[0m \u001b[0mdataset\u001b[0m \u001b[0mfiles\u001b[0m\u001b[0;34m.\u001b[0m\u001b[0;34m\u001b[0m\u001b[0;34m\u001b[0m\u001b[0m\n\u001b[1;32m     40\u001b[0m     \"\"\"\n\u001b[0;32m---> 41\u001b[0;31m     \u001b[0mh\u001b[0m \u001b[0;34m=\u001b[0m \u001b[0mparse_dataset_handle\u001b[0m\u001b[0;34m(\u001b[0m\u001b[0mhandle\u001b[0m\u001b[0;34m)\u001b[0m\u001b[0;34m\u001b[0m\u001b[0;34m\u001b[0m\u001b[0m\n\u001b[0m\u001b[1;32m     42\u001b[0m     \u001b[0mlogger\u001b[0m\u001b[0;34m.\u001b[0m\u001b[0minfo\u001b[0m\u001b[0;34m(\u001b[0m\u001b[0;34mf\"Downloading Dataset: {h.to_url()} ...\"\u001b[0m\u001b[0;34m,\u001b[0m \u001b[0mextra\u001b[0m\u001b[0;34m=\u001b[0m\u001b[0;34m{\u001b[0m\u001b[0;34m**\u001b[0m\u001b[0mEXTRA_CONSOLE_BLOCK\u001b[0m\u001b[0;34m}\u001b[0m\u001b[0;34m)\u001b[0m\u001b[0;34m\u001b[0m\u001b[0;34m\u001b[0m\u001b[0m\n\u001b[1;32m     43\u001b[0m     \u001b[0mpath\u001b[0m\u001b[0;34m,\u001b[0m \u001b[0m_\u001b[0m \u001b[0;34m=\u001b[0m \u001b[0mregistry\u001b[0m\u001b[0;34m.\u001b[0m\u001b[0mdataset_resolver\u001b[0m\u001b[0;34m(\u001b[0m\u001b[0mh\u001b[0m\u001b[0;34m,\u001b[0m \u001b[0mpath\u001b[0m\u001b[0;34m,\u001b[0m \u001b[0mforce_download\u001b[0m\u001b[0;34m=\u001b[0m\u001b[0mforce_download\u001b[0m\u001b[0;34m)\u001b[0m\u001b[0;34m\u001b[0m\u001b[0;34m\u001b[0m\u001b[0m\n",
            "\u001b[0;32m/usr/local/lib/python3.11/dist-packages/kagglehub/handle.py\u001b[0m in \u001b[0;36mparse_dataset_handle\u001b[0;34m(handle)\u001b[0m\n\u001b[1;32m    159\u001b[0m \u001b[0;34m\u001b[0m\u001b[0m\n\u001b[1;32m    160\u001b[0m     \u001b[0mmsg\u001b[0m \u001b[0;34m=\u001b[0m \u001b[0;34mf\"Invalid dataset handle: {handle}\"\u001b[0m\u001b[0;34m\u001b[0m\u001b[0;34m\u001b[0m\u001b[0m\n\u001b[0;32m--> 161\u001b[0;31m     \u001b[0;32mraise\u001b[0m \u001b[0mValueError\u001b[0m\u001b[0;34m(\u001b[0m\u001b[0mmsg\u001b[0m\u001b[0;34m)\u001b[0m\u001b[0;34m\u001b[0m\u001b[0;34m\u001b[0m\u001b[0m\n\u001b[0m\u001b[1;32m    162\u001b[0m \u001b[0;34m\u001b[0m\u001b[0m\n\u001b[1;32m    163\u001b[0m \u001b[0;34m\u001b[0m\u001b[0m\n",
            "\u001b[0;31mValueError\u001b[0m: Invalid dataset handle: organizations/unsdsn/world-happiness"
          ]
        }
      ],
      "execution_count": 1
    },
    {
      "metadata": {
        "id": "Cud2H30ToyIl"
      },
      "cell_type": "markdown",
      "source": [
        "### Timeline"
      ]
    },
    {
      "metadata": {
        "_kg_hide-input": true,
        "_kg_hide-output": true,
        "trusted": true,
        "id": "FVgO420boyIl"
      },
      "cell_type": "code",
      "source": [
        "# from IPython.core.display import HTML"
      ],
      "execution_count": null,
      "outputs": []
    },
    {
      "metadata": {
        "_kg_hide-input": true,
        "trusted": true,
        "id": "d-LrvX3ZoyIm"
      },
      "cell_type": "code",
      "source": [
        "# HTML('''<div class=\"flourish-embed flourish-cards\" data-src=\"visualisation/1810417\" data-url=\"https://flo.uri.sh/visualisation/1810417/embed\"><script src=\"https://public.flourish.studio/resources/embed.js\"></script></div>''')"
      ],
      "execution_count": null,
      "outputs": []
    },
    {
      "metadata": {
        "id": "a8XWlqWdoyIn"
      },
      "cell_type": "markdown",
      "source": [
        "### Ships that had passengers with COVID-19"
      ]
    },
    {
      "metadata": {
        "_kg_hide-input": true,
        "trusted": true,
        "id": "KEDU6XYpoyIn"
      },
      "cell_type": "code",
      "source": [
        "# HTML('''<div class=\"flourish-embed flourish-cards\" data-src=\"visualisation/1816605\" data-url=\"https://flo.uri.sh/visualisation/1816605/embed\"><script src=\"https://public.flourish.studio/resources/embed.js\"></script></div>''')"
      ],
      "execution_count": null,
      "outputs": []
    },
    {
      "metadata": {
        "id": "H3kZPJ0poyIo"
      },
      "cell_type": "markdown",
      "source": [
        "# Libraries"
      ]
    },
    {
      "metadata": {
        "id": "GCGXtmAooyIp"
      },
      "cell_type": "markdown",
      "source": [
        "### Install libraries"
      ]
    },
    {
      "metadata": {
        "trusted": true,
        "_kg_hide-output": true,
        "_kg_hide-input": true,
        "id": "mpOXBoj0oyIp"
      },
      "cell_type": "code",
      "source": [
        "# get latest version of pip\n",
        "# !pip install --upgrade pip\n",
        "\n",
        "# for calender map\n",
        "# ! pip install calmap\n",
        "\n",
        "# to convert us statenames to state codes\n",
        "# ! pip install us\n",
        "\n",
        "# to get continent name from country name\n",
        "# ! pip install pycountry_convert"
      ],
      "execution_count": null,
      "outputs": []
    },
    {
      "metadata": {
        "id": "BOGmWAusoyIq"
      },
      "cell_type": "markdown",
      "source": [
        "### Load libraries"
      ]
    },
    {
      "metadata": {
        "trusted": true,
        "_kg_hide-input": true,
        "id": "eEbPcShpoyIr"
      },
      "cell_type": "code",
      "source": [
        "# math opeations\n",
        "# import math\n",
        "# produce random numbers\n",
        "# import random\n",
        "# to load json files\n",
        "import json\n",
        "# datetime oprations\n",
        "from datetime import timedelta\n",
        "# to get web contents\n",
        "from urllib.request import urlopen\n",
        "\n",
        "# for numerical analyiss\n",
        "import numpy as np\n",
        "# to store and process data in dataframe\n",
        "import pandas as pd"
      ],
      "execution_count": null,
      "outputs": []
    },
    {
      "metadata": {
        "trusted": true,
        "_kg_hide-input": true,
        "id": "g7XVWj44oyIs"
      },
      "cell_type": "code",
      "source": [
        "# basic visualization package\n",
        "import matplotlib.pyplot as plt\n",
        "# advanced ploting\n",
        "import seaborn as sns\n",
        "\n",
        "# interactive visualization\n",
        "import plotly.express as px\n",
        "import plotly.graph_objs as go\n",
        "# import plotly.figure_factory as ff\n",
        "from plotly.subplots import make_subplots"
      ],
      "execution_count": null,
      "outputs": []
    },
    {
      "metadata": {
        "trusted": true,
        "_kg_hide-input": true,
        "id": "2_fiVOdnoyIs"
      },
      "cell_type": "code",
      "source": [
        "# for offline ploting\n",
        "from plotly.offline import plot, iplot, init_notebook_mode\n",
        "init_notebook_mode(connected=True)"
      ],
      "execution_count": null,
      "outputs": []
    },
    {
      "metadata": {
        "_uuid": "8f2839f25d086af736a60e9eeb907d3b93b6e0e5",
        "_cell_guid": "b1076dfc-b9ad-4769-8c92-a6c4dae69d19",
        "trusted": true,
        "_kg_hide-input": true,
        "_kg_hide-output": true,
        "id": "OCnWb8d_oyIs"
      },
      "cell_type": "code",
      "source": [
        "# converter\n",
        "# from pandas.plotting import register_matplotlib_converters\n",
        "# register_matplotlib_converters()\n",
        "\n",
        "# hide warnings\n",
        "import warnings\n",
        "warnings.filterwarnings('ignore')\n",
        "\n",
        "# to USA states details\n",
        "# import us"
      ],
      "execution_count": null,
      "outputs": []
    },
    {
      "metadata": {
        "id": "fGp8suM2oyIt"
      },
      "cell_type": "markdown",
      "source": [
        "### Color, theme, color palettes"
      ]
    },
    {
      "metadata": {
        "trusted": true,
        "_kg_hide-input": true,
        "id": "eGek-vavoyIt"
      },
      "cell_type": "code",
      "source": [
        "# color pallette\n",
        "cnf, dth, rec, act = '#393e46', '#ff2e63', '#21bf73', '#fe9801'\n",
        "\n",
        "# seaborn plot style\n",
        "# sns.set_style('darkgrid')"
      ],
      "execution_count": null,
      "outputs": []
    },
    {
      "metadata": {
        "id": "_pbYciKGoyIt"
      },
      "cell_type": "markdown",
      "source": [
        "# Dataset"
      ]
    },
    {
      "metadata": {
        "trusted": true,
        "_kg_hide-input": true,
        "_kg_hide-output": false,
        "id": "UyJTCmhJoyIu"
      },
      "cell_type": "code",
      "source": [
        "# list files\n",
        "# ==========\n",
        "\n",
        "# !ls ../input/corona-virus-report"
      ],
      "execution_count": null,
      "outputs": []
    },
    {
      "metadata": {
        "_kg_hide-input": true,
        "trusted": true,
        "id": "tE5C0upYoyIu"
      },
      "cell_type": "code",
      "source": [
        "# Full data\n",
        "# =========\n",
        "\n",
        "full_table = pd.read_csv('../input/corona-virus-report/covid_19_clean_complete.csv')\n",
        "# full_table.head()"
      ],
      "execution_count": null,
      "outputs": []
    },
    {
      "metadata": {
        "trusted": true,
        "_kg_hide-input": true,
        "_kg_hide-output": true,
        "id": "7nKtQwbYoyIu"
      },
      "cell_type": "code",
      "source": [
        "# Grouped by day, country\n",
        "# =======================\n",
        "\n",
        "full_grouped = pd.read_csv('../input/corona-virus-report/full_grouped.csv')\n",
        "full_grouped['Date'] = pd.to_datetime(full_grouped['Date'])\n",
        "# full_grouped.head()"
      ],
      "execution_count": null,
      "outputs": []
    },
    {
      "metadata": {
        "trusted": true,
        "_kg_hide-input": true,
        "_kg_hide-output": true,
        "id": "xaJ6stEroyIu"
      },
      "cell_type": "code",
      "source": [
        "# Day wise\n",
        "# ========\n",
        "\n",
        "day_wise = pd.read_csv('../input/corona-virus-report/day_wise.csv')\n",
        "day_wise['Date'] = pd.to_datetime(day_wise['Date'])\n",
        "# day_wise.head()"
      ],
      "execution_count": null,
      "outputs": []
    },
    {
      "metadata": {
        "trusted": true,
        "_kg_hide-input": true,
        "_kg_hide-output": true,
        "id": "Orqjux09oyIu"
      },
      "cell_type": "code",
      "source": [
        "# Country wise\n",
        "# ============\n",
        "\n",
        "country_wise = pd.read_csv('../input/corona-virus-report/country_wise_latest.csv')\n",
        "country_wise = country_wise.replace('', np.nan).fillna(0)\n",
        "# country_wise.head()"
      ],
      "execution_count": null,
      "outputs": []
    },
    {
      "metadata": {
        "trusted": true,
        "_kg_hide-input": true,
        "_kg_hide-output": true,
        "id": "SU5CkInXoyIu"
      },
      "cell_type": "code",
      "source": [
        "# Worldometer data\n",
        "# ================\n",
        "\n",
        "worldometer_data = pd.read_csv('../input/corona-virus-report/worldometer_data.csv')\n",
        "worldometer_data = worldometer_data.replace('', np.nan).fillna(0)\n",
        "# worldometer_data.head()"
      ],
      "execution_count": null,
      "outputs": []
    },
    {
      "metadata": {
        "id": "dq7RGPOsoyIv"
      },
      "cell_type": "markdown",
      "source": [
        "# Latest"
      ]
    },
    {
      "metadata": {
        "trusted": true,
        "_kg_hide-input": true,
        "id": "HtxKo9OwoyIv"
      },
      "cell_type": "code",
      "source": [
        "temp = day_wise[['Date','Deaths', 'Recovered', 'Active']].tail(1)\n",
        "temp = temp.melt(id_vars=\"Date\", value_vars=['Active', 'Deaths', 'Recovered'])\n",
        "fig = px.treemap(temp, path=[\"variable\"], values=\"value\", height=225,\n",
        "                 color_discrete_sequence=[act, rec, dth])\n",
        "fig.data[0].textinfo = 'label+text+value'\n",
        "fig.show()"
      ],
      "execution_count": null,
      "outputs": []
    },
    {
      "metadata": {
        "id": "PbkgyC0soyIv"
      },
      "cell_type": "markdown",
      "source": [
        "# Maps"
      ]
    },
    {
      "metadata": {
        "trusted": true,
        "_kg_hide-input": true,
        "id": "OQ2Hbn1RoyIv"
      },
      "cell_type": "code",
      "source": [
        "def plot_map(df, col, pal):\n",
        "    df = df[df[col]>0]\n",
        "    fig = px.choropleth(df, locations=\"Country/Region\", locationmode='country names',\n",
        "                  color=col, hover_name=\"Country/Region\",\n",
        "                  title=col, hover_data=[col], color_continuous_scale=pal)\n",
        "#     fig.update_layout(coloraxis_showscale=False)\n",
        "    fig.show()"
      ],
      "execution_count": null,
      "outputs": []
    },
    {
      "metadata": {
        "trusted": true,
        "_kg_hide-input": true,
        "id": "cb8vrWkYoyIv"
      },
      "cell_type": "code",
      "source": [
        "plot_map(country_wise, 'Confirmed', 'matter')"
      ],
      "execution_count": null,
      "outputs": []
    },
    {
      "metadata": {
        "trusted": true,
        "_kg_hide-input": true,
        "id": "F7DLlWaNoyIv"
      },
      "cell_type": "code",
      "source": [
        "plot_map(country_wise, 'Deaths', 'matter')"
      ],
      "execution_count": null,
      "outputs": []
    },
    {
      "metadata": {
        "trusted": true,
        "_kg_hide-input": true,
        "id": "1UgEE8NpoyIv"
      },
      "cell_type": "code",
      "source": [
        "plot_map(country_wise, 'Deaths / 100 Cases', 'matter')"
      ],
      "execution_count": null,
      "outputs": []
    },
    {
      "metadata": {
        "trusted": true,
        "_kg_hide-input": true,
        "id": "xadMSYcNoyIv"
      },
      "cell_type": "code",
      "source": [
        "# Over the time\n",
        "\n",
        "fig = px.choropleth(full_grouped, locations=\"Country/Region\",\n",
        "                    color=np.log(full_grouped[\"Confirmed\"]),\n",
        "                    locationmode='country names', hover_name=\"Country/Region\",\n",
        "                    animation_frame=full_grouped[\"Date\"].dt.strftime('%Y-%m-%d'),\n",
        "                    title='Cases over time', color_continuous_scale=px.colors.sequential.matter)\n",
        "fig.update(layout_coloraxis_showscale=False)\n",
        "fig.show()"
      ],
      "execution_count": null,
      "outputs": []
    },
    {
      "metadata": {
        "id": "H0WCkjc3oyIw"
      },
      "cell_type": "markdown",
      "source": [
        "# Cases over the time"
      ]
    },
    {
      "metadata": {
        "trusted": true,
        "_kg_hide-input": true,
        "id": "pRWlozr4oyIx"
      },
      "cell_type": "code",
      "source": [
        "def plot_daywise(col, hue):\n",
        "    fig = px.bar(day_wise, x=\"Date\", y=col, width=700, color_discrete_sequence=[hue])\n",
        "    fig.update_layout(title=col, xaxis_title=\"\", yaxis_title=\"\")\n",
        "    fig.show()"
      ],
      "execution_count": null,
      "outputs": []
    },
    {
      "metadata": {
        "trusted": true,
        "_kg_hide-input": true,
        "id": "Q0GL_nfjoyIx"
      },
      "cell_type": "code",
      "source": [
        "def plot_daywise_line(col, hue):\n",
        "    fig = px.line(day_wise, x=\"Date\", y=col, width=700, color_discrete_sequence=[hue])\n",
        "    fig.update_layout(title=col, xaxis_title=\"\", yaxis_title=\"\")\n",
        "    fig.show()"
      ],
      "execution_count": null,
      "outputs": []
    },
    {
      "metadata": {
        "trusted": true,
        "_kg_hide-input": true,
        "id": "w50F4KkOoyIx"
      },
      "cell_type": "code",
      "source": [
        "temp = full_grouped.groupby('Date')['Recovered', 'Deaths', 'Active'].sum().reset_index()\n",
        "temp = temp.melt(id_vars=\"Date\", value_vars=['Recovered', 'Deaths', 'Active'],\n",
        "                 var_name='Case', value_name='Count')\n",
        "temp.head()\n",
        "\n",
        "fig = px.area(temp, x=\"Date\", y=\"Count\", color='Case', height=600, width=700,\n",
        "             title='Cases over time', color_discrete_sequence = [rec, dth, act])\n",
        "fig.update_layout(xaxis_rangeslider_visible=True)\n",
        "fig.show()"
      ],
      "execution_count": null,
      "outputs": []
    },
    {
      "metadata": {
        "trusted": true,
        "_kg_hide-input": true,
        "id": "KIi5ZTHqoyIy"
      },
      "cell_type": "code",
      "source": [
        "plot_daywise('Confirmed', '#333333')"
      ],
      "execution_count": null,
      "outputs": []
    },
    {
      "metadata": {
        "trusted": true,
        "_kg_hide-input": true,
        "id": "ID0cZAHloyIy"
      },
      "cell_type": "code",
      "source": [
        "plot_daywise('Active', '#333333')"
      ],
      "execution_count": null,
      "outputs": []
    },
    {
      "metadata": {
        "trusted": true,
        "_kg_hide-input": true,
        "id": "STuvqNWhoyIy"
      },
      "cell_type": "code",
      "source": [
        "plot_daywise('New cases', '#333333')"
      ],
      "execution_count": null,
      "outputs": []
    },
    {
      "metadata": {
        "trusted": true,
        "_kg_hide-input": true,
        "id": "oofT6rUEoyI4"
      },
      "cell_type": "code",
      "source": [
        "plot_daywise('Deaths', dth)"
      ],
      "execution_count": null,
      "outputs": []
    },
    {
      "metadata": {
        "trusted": true,
        "_kg_hide-input": true,
        "id": "yg7cNueloyI4"
      },
      "cell_type": "code",
      "source": [
        "plot_daywise('New deaths', dth)"
      ],
      "execution_count": null,
      "outputs": []
    },
    {
      "metadata": {
        "trusted": true,
        "_kg_hide-input": true,
        "id": "qgQCnEjRoyI5"
      },
      "cell_type": "code",
      "source": [
        "plot_daywise('Recovered', rec)"
      ],
      "execution_count": null,
      "outputs": []
    },
    {
      "metadata": {
        "trusted": true,
        "_kg_hide-input": true,
        "id": "qGwSGdV5oyI5"
      },
      "cell_type": "code",
      "source": [
        "plot_daywise('New recovered', rec)"
      ],
      "execution_count": null,
      "outputs": []
    },
    {
      "metadata": {
        "trusted": true,
        "_kg_hide-input": true,
        "id": "KvFIPZP7oyI5"
      },
      "cell_type": "code",
      "source": [
        "plot_daywise_line('Deaths / 100 Cases', dth)"
      ],
      "execution_count": null,
      "outputs": []
    },
    {
      "metadata": {
        "trusted": true,
        "_kg_hide-input": true,
        "id": "Ysmrxh2ZoyI5"
      },
      "cell_type": "code",
      "source": [
        "plot_daywise_line('Deaths / 100 Recovered', dth)"
      ],
      "execution_count": null,
      "outputs": []
    },
    {
      "metadata": {
        "trusted": true,
        "_kg_hide-input": true,
        "id": "Y4NHFud7oyI6"
      },
      "cell_type": "code",
      "source": [
        "plot_daywise_line('Recovered / 100 Cases', rec)"
      ],
      "execution_count": null,
      "outputs": []
    },
    {
      "metadata": {
        "trusted": true,
        "_kg_hide-input": true,
        "id": "ZDF2GbFcoyI6"
      },
      "cell_type": "code",
      "source": [
        "plot_daywise('No. of countries', '#035aa6')"
      ],
      "execution_count": null,
      "outputs": []
    },
    {
      "metadata": {
        "_kg_hide-input": true,
        "trusted": true,
        "id": "fc9sD5SQoyI6"
      },
      "cell_type": "code",
      "source": [
        "temp = day_wise[['Date', 'Recovered', 'Active']]\n",
        "temp = temp.melt(id_vars='Date', value_vars=['Recovered', 'Active'],\n",
        "                 var_name='Variable', value_name='Count')\n",
        "px.line(temp, x='Date', y='Count', color='Variable')"
      ],
      "execution_count": null,
      "outputs": []
    },
    {
      "metadata": {
        "id": "bDIH4wkmoyI7"
      },
      "cell_type": "markdown",
      "source": [
        "# Top 20 Countries"
      ]
    },
    {
      "metadata": {
        "trusted": true,
        "_kg_hide-input": true,
        "id": "GOqdkQH1oyI7"
      },
      "cell_type": "code",
      "source": [
        "def plot_hbar(df, col, n, hover_data=[]):\n",
        "    fig = px.bar(df.sort_values(col).tail(n),\n",
        "                 x=col, y=\"Country/Region\", color='WHO Region',\n",
        "                 text=col, orientation='h', width=700, hover_data=hover_data,\n",
        "                 color_discrete_sequence = px.colors.qualitative.Dark2)\n",
        "    fig.update_layout(title=col, xaxis_title=\"\", yaxis_title=\"\",\n",
        "                      yaxis_categoryorder = 'total ascending',\n",
        "                      uniformtext_minsize=8, uniformtext_mode='hide')\n",
        "    fig.show()"
      ],
      "execution_count": null,
      "outputs": []
    },
    {
      "metadata": {
        "trusted": true,
        "_kg_hide-input": true,
        "id": "LAQpVYyfoyI7"
      },
      "cell_type": "code",
      "source": [
        "def plot_hbar_wm(col, n, min_pop=1000000, sort='descending'):\n",
        "    df = worldometer_data[worldometer_data['Population']>min_pop]\n",
        "    df = df.sort_values(col, ascending=True).tail(n)\n",
        "    fig = px.bar(df,\n",
        "                 x=col, y=\"Country/Region\", color='WHO Region',\n",
        "                 text=col, orientation='h', width=700,\n",
        "                 color_discrete_sequence = px.colors.qualitative.Dark2)\n",
        "    fig.update_layout(title=col+' (Only countries with > 1M Pop)',\n",
        "                      xaxis_title=\"\", yaxis_title=\"\",\n",
        "                      yaxis_categoryorder = 'total ascending',\n",
        "                      uniformtext_minsize=8, uniformtext_mode='hide')\n",
        "    fig.show()"
      ],
      "execution_count": null,
      "outputs": []
    },
    {
      "metadata": {
        "trusted": true,
        "_kg_hide-input": true,
        "id": "9LDp_cnWoyI7"
      },
      "cell_type": "code",
      "source": [
        "plot_hbar(country_wise, 'Confirmed', 15)"
      ],
      "execution_count": null,
      "outputs": []
    },
    {
      "metadata": {
        "trusted": true,
        "_kg_hide-input": true,
        "id": "nSK8vxSQoyI8"
      },
      "cell_type": "code",
      "source": [
        "plot_hbar(country_wise, 'Active', 15)"
      ],
      "execution_count": null,
      "outputs": []
    },
    {
      "metadata": {
        "trusted": true,
        "_kg_hide-input": true,
        "id": "2fsQm16ZoyI8"
      },
      "cell_type": "code",
      "source": [
        "plot_hbar(country_wise, 'New cases', 15)"
      ],
      "execution_count": null,
      "outputs": []
    },
    {
      "metadata": {
        "trusted": true,
        "_kg_hide-input": true,
        "id": "ENNnYHH9oyI8"
      },
      "cell_type": "code",
      "source": [
        "plot_hbar(country_wise, 'Deaths', 15)"
      ],
      "execution_count": null,
      "outputs": []
    },
    {
      "metadata": {
        "trusted": true,
        "_kg_hide-input": true,
        "id": "L-L2ERg7oyI9"
      },
      "cell_type": "code",
      "source": [
        "plot_hbar(country_wise, 'New deaths', 15)"
      ],
      "execution_count": null,
      "outputs": []
    },
    {
      "metadata": {
        "trusted": true,
        "_kg_hide-input": true,
        "id": "eDPBuHaYoyI9"
      },
      "cell_type": "code",
      "source": [
        "plot_hbar(country_wise, 'Deaths / 100 Cases', 15)"
      ],
      "execution_count": null,
      "outputs": []
    },
    {
      "metadata": {
        "trusted": true,
        "_kg_hide-input": true,
        "id": "frM6-FxEoyI9"
      },
      "cell_type": "code",
      "source": [
        "plot_hbar(country_wise, 'Recovered', 15)"
      ],
      "execution_count": null,
      "outputs": []
    },
    {
      "metadata": {
        "trusted": true,
        "_kg_hide-input": true,
        "id": "3_A9uxTKoyI9"
      },
      "cell_type": "code",
      "source": [
        "plot_hbar(country_wise, 'New recovered', 15)"
      ],
      "execution_count": null,
      "outputs": []
    },
    {
      "metadata": {
        "trusted": true,
        "_kg_hide-input": true,
        "id": "mquPVHN8oyI-"
      },
      "cell_type": "code",
      "source": [
        "plot_hbar(country_wise, 'Recovered / 100 Cases', 15)"
      ],
      "execution_count": null,
      "outputs": []
    },
    {
      "metadata": {
        "trusted": true,
        "_kg_hide-input": true,
        "id": "QAf78h4eoyI-"
      },
      "cell_type": "code",
      "source": [
        "plot_hbar(country_wise, '1 week change', 15)"
      ],
      "execution_count": null,
      "outputs": []
    },
    {
      "metadata": {
        "trusted": true,
        "_kg_hide-input": true,
        "id": "SBP8JXDJoyI-"
      },
      "cell_type": "code",
      "source": [
        "plot_hbar(country_wise, '1 week % increase', 15)"
      ],
      "execution_count": null,
      "outputs": []
    },
    {
      "metadata": {
        "trusted": true,
        "_kg_hide-input": true,
        "id": "gkwsKVzxoyI-"
      },
      "cell_type": "code",
      "source": [
        "plot_hbar_wm('Tot Cases/1M pop', 15, 1000000)"
      ],
      "execution_count": null,
      "outputs": []
    },
    {
      "metadata": {
        "trusted": true,
        "_kg_hide-input": true,
        "id": "8E3uvUSJoyI-"
      },
      "cell_type": "code",
      "source": [
        "plot_hbar_wm('Deaths/1M pop', 15, 1000000)"
      ],
      "execution_count": null,
      "outputs": []
    },
    {
      "metadata": {
        "trusted": true,
        "_kg_hide-input": true,
        "id": "GmDeTUBEoyI_"
      },
      "cell_type": "code",
      "source": [
        "plot_hbar_wm('TotalTests', 15, 1000000)"
      ],
      "execution_count": null,
      "outputs": []
    },
    {
      "metadata": {
        "trusted": true,
        "_kg_hide-input": true,
        "id": "mawO_LPFoyI_"
      },
      "cell_type": "code",
      "source": [
        "plot_hbar_wm('Tests/1M pop', 15)"
      ],
      "execution_count": null,
      "outputs": []
    },
    {
      "metadata": {
        "id": "k33GOcsjoyI_"
      },
      "cell_type": "markdown",
      "source": [
        "# Date vs"
      ]
    },
    {
      "metadata": {
        "trusted": true,
        "_kg_hide-input": true,
        "id": "YfZxN-g_oyI_"
      },
      "cell_type": "code",
      "source": [
        "def plot_stacked(col):\n",
        "    fig = px.bar(full_grouped, x=\"Date\", y=col, color='Country/Region',\n",
        "                 height=600, title=col,\n",
        "                 color_discrete_sequence = px.colors.cyclical.mygbm)\n",
        "    fig.update_layout(showlegend=True)\n",
        "    fig.show()"
      ],
      "execution_count": null,
      "outputs": []
    },
    {
      "metadata": {
        "trusted": true,
        "_kg_hide-input": true,
        "id": "Lw_b-KGDoyI_"
      },
      "cell_type": "code",
      "source": [
        "def plot_line(col):\n",
        "    fig = px.line(full_grouped, x=\"Date\", y=col, color='Country/Region',\n",
        "                  height=600, title=col,\n",
        "                  color_discrete_sequence = px.colors.cyclical.mygbm)\n",
        "    fig.update_layout(showlegend=True)\n",
        "    fig.show()"
      ],
      "execution_count": null,
      "outputs": []
    },
    {
      "metadata": {
        "trusted": true,
        "_kg_hide-input": true,
        "id": "EO4tnSH5oyI_"
      },
      "cell_type": "code",
      "source": [
        "plot_stacked('Confirmed')"
      ],
      "execution_count": null,
      "outputs": []
    },
    {
      "metadata": {
        "trusted": true,
        "_kg_hide-input": true,
        "id": "0mRVHExHoyJA"
      },
      "cell_type": "code",
      "source": [
        "plot_stacked('Deaths')"
      ],
      "execution_count": null,
      "outputs": []
    },
    {
      "metadata": {
        "trusted": true,
        "_kg_hide-input": true,
        "id": "xU1fnR-UoyJA"
      },
      "cell_type": "code",
      "source": [
        "plot_stacked('New cases')"
      ],
      "execution_count": null,
      "outputs": []
    },
    {
      "metadata": {
        "trusted": true,
        "id": "3oybWJwOoyJA"
      },
      "cell_type": "code",
      "source": [
        "plot_stacked('Active')"
      ],
      "execution_count": null,
      "outputs": []
    },
    {
      "metadata": {
        "trusted": true,
        "_kg_hide-input": true,
        "id": "k31KD3dVoyJA"
      },
      "cell_type": "code",
      "source": [
        "plot_line('Confirmed')"
      ],
      "execution_count": null,
      "outputs": []
    },
    {
      "metadata": {
        "trusted": true,
        "_kg_hide-input": true,
        "id": "4O0EAaZsoyJA"
      },
      "cell_type": "code",
      "source": [
        "plot_line('Deaths')"
      ],
      "execution_count": null,
      "outputs": []
    },
    {
      "metadata": {
        "trusted": true,
        "_kg_hide-input": true,
        "id": "iJPwAXDvoyJB"
      },
      "cell_type": "code",
      "source": [
        "plot_line('New cases')"
      ],
      "execution_count": null,
      "outputs": []
    },
    {
      "metadata": {
        "trusted": true,
        "id": "3yU-w1WboyJB"
      },
      "cell_type": "code",
      "source": [
        "plot_line('Active')"
      ],
      "execution_count": null,
      "outputs": []
    },
    {
      "metadata": {
        "trusted": true,
        "_kg_hide-input": true,
        "id": "eZn5E9rxoyJB"
      },
      "cell_type": "code",
      "source": [
        "temp = pd.merge(full_grouped[['Date', 'Country/Region', 'Confirmed', 'Deaths']],\n",
        "                day_wise[['Date', 'Confirmed', 'Deaths']], on='Date')\n",
        "temp['% Confirmed'] = round(temp['Confirmed_x']/temp['Confirmed_y'], 3)*100\n",
        "temp['% Deaths'] = round(temp['Deaths_x']/temp['Deaths_y'], 3)*100\n",
        "temp.head()"
      ],
      "execution_count": null,
      "outputs": []
    },
    {
      "metadata": {
        "trusted": true,
        "_kg_hide-input": true,
        "id": "A4OnczJsoyJC"
      },
      "cell_type": "code",
      "source": [
        "fig = px.bar(temp, x='Date', y='% Confirmed', color='Country/Region',\n",
        "             range_y=(0, 100), title='% of Cases from each country',\n",
        "             color_discrete_sequence=px.colors.qualitative.Prism)\n",
        "fig.show()"
      ],
      "execution_count": null,
      "outputs": []
    },
    {
      "metadata": {
        "_kg_hide-input": true,
        "trusted": true,
        "id": "9fzUd1jWoyJC"
      },
      "cell_type": "code",
      "source": [
        "fig = px.bar(temp, x='Date', y='% Deaths', color='Country/Region',\n",
        "             range_y=(0, 100), title='% of Cases from each country',\n",
        "             color_discrete_sequence=px.colors.qualitative.Prism)\n",
        "fig.show()"
      ],
      "execution_count": null,
      "outputs": []
    },
    {
      "metadata": {
        "id": "vFZgySVQoyJC"
      },
      "cell_type": "markdown",
      "source": [
        "# Graph after 1M cases"
      ]
    },
    {
      "metadata": {
        "trusted": true,
        "_kg_hide-input": true,
        "id": "9K_P2_F7oyJC"
      },
      "cell_type": "code",
      "source": [
        "def gt_n(n):\n",
        "    countries = full_grouped[full_grouped['Confirmed']>n]['Country/Region'].unique()\n",
        "    temp = full_table[full_table['Country/Region'].isin(countries)]\n",
        "    temp = temp.groupby(['Country/Region', 'Date'])['Confirmed'].sum().reset_index()\n",
        "    temp = temp[temp['Confirmed']>n]\n",
        "    # print(temp.head())\n",
        "\n",
        "    min_date = temp.groupby('Country/Region')['Date'].min().reset_index()\n",
        "    min_date.columns = ['Country/Region', 'Min Date']\n",
        "    # print(min_date.head())\n",
        "\n",
        "    from_nth_case = pd.merge(temp, min_date, on='Country/Region')\n",
        "    from_nth_case['Date'] = pd.to_datetime(from_nth_case['Date'])\n",
        "    from_nth_case['Min Date'] = pd.to_datetime(from_nth_case['Min Date'])\n",
        "    from_nth_case['N days'] = (from_nth_case['Date'] - from_nth_case['Min Date']).dt.days\n",
        "    # print(from_nth_case.head())\n",
        "\n",
        "    fig = px.line(from_nth_case, x='N days', y='Confirmed', color='Country/Region',\n",
        "                  title='N days from '+str(n)+' case', height=600)\n",
        "    fig.show()"
      ],
      "execution_count": null,
      "outputs": []
    },
    {
      "metadata": {
        "trusted": true,
        "_kg_hide-input": true,
        "id": "1zMIAIoToyJC"
      },
      "cell_type": "code",
      "source": [
        "gt_n(100000)"
      ],
      "execution_count": null,
      "outputs": []
    },
    {
      "metadata": {
        "id": "44BLc50doyJD"
      },
      "cell_type": "markdown",
      "source": [
        "# Confirmed vs Deaths"
      ]
    },
    {
      "metadata": {
        "trusted": true,
        "_kg_hide-input": true,
        "id": "P-1FCeNboyJD"
      },
      "cell_type": "code",
      "source": [
        "fig = px.scatter(country_wise.sort_values('Deaths', ascending=False).iloc[:20, :],\n",
        "                 x='Confirmed', y='Deaths', color='Country/Region', size='Confirmed',\n",
        "                 height=700, text='Country/Region', log_x=True, log_y=True,\n",
        "                 title='Deaths vs Confirmed (Scale is in log10)')\n",
        "fig.update_traces(textposition='top center')\n",
        "fig.update_layout(showlegend=False)\n",
        "fig.update_layout(xaxis_rangeslider_visible=True)\n",
        "fig.show()"
      ],
      "execution_count": null,
      "outputs": []
    },
    {
      "metadata": {
        "id": "3j6TSDQpoyJD"
      },
      "cell_type": "markdown",
      "source": [
        "# Composition of Cases"
      ]
    },
    {
      "metadata": {
        "trusted": true,
        "id": "jNT8eYz9oyJD"
      },
      "cell_type": "code",
      "source": [
        "def plot_treemap(col):\n",
        "    fig = px.treemap(country_wise, path=[\"Country/Region\"], values=col, height=700,\n",
        "                 title=col, color_discrete_sequence = px.colors.qualitative.Dark2)\n",
        "    fig.data[0].textinfo = 'label+text+value'\n",
        "    fig.show()"
      ],
      "execution_count": null,
      "outputs": []
    },
    {
      "metadata": {
        "trusted": true,
        "id": "xUmq3Ug0oyJD"
      },
      "cell_type": "code",
      "source": [
        "plot_treemap('Confirmed')"
      ],
      "execution_count": null,
      "outputs": []
    },
    {
      "metadata": {
        "trusted": true,
        "id": "Vd3ec3ehoyJD"
      },
      "cell_type": "code",
      "source": [
        "plot_treemap('Deaths')"
      ],
      "execution_count": null,
      "outputs": []
    },
    {
      "metadata": {
        "id": "lRWA6D_coyJE"
      },
      "cell_type": "markdown",
      "source": [
        "# Bubble Plot"
      ]
    },
    {
      "metadata": {
        "_kg_hide-input": true,
        "trusted": true,
        "id": "03EhMtDIoyJE"
      },
      "cell_type": "code",
      "source": [
        "def plot_bubble(col, pal):\n",
        "    temp = full_grouped[full_grouped[col]>0].sort_values('Country/Region', ascending=False)\n",
        "    fig = px.scatter(temp, x='Date', y='Country/Region', size=col, color=col, height=3000,\n",
        "                    color_continuous_scale=pal)\n",
        "    fig.update_layout(yaxis = dict(dtick = 1))\n",
        "    fig.update(layout_coloraxis_showscale=False)\n",
        "    fig.show()"
      ],
      "execution_count": null,
      "outputs": []
    },
    {
      "metadata": {
        "_kg_hide-input": true,
        "trusted": true,
        "id": "Q0j0MZZmoyJE"
      },
      "cell_type": "code",
      "source": [
        "plot_bubble('New cases', 'Viridis')"
      ],
      "execution_count": null,
      "outputs": []
    },
    {
      "metadata": {
        "_kg_hide-input": true,
        "trusted": true,
        "id": "9A2G5oVKoyJE"
      },
      "cell_type": "code",
      "source": [
        "plot_bubble('Active', 'Viridis')"
      ],
      "execution_count": null,
      "outputs": []
    },
    {
      "metadata": {
        "id": "fdoUTJFIoyJE"
      },
      "cell_type": "markdown",
      "source": [
        "# Epidemic Span"
      ]
    },
    {
      "metadata": {
        "_kg_hide-input": true,
        "trusted": true,
        "id": "yyxODol5oyJE"
      },
      "cell_type": "code",
      "source": [
        "temp = full_grouped[['Date', 'Country/Region', 'New cases']]\n",
        "temp['New cases reported ?'] = temp['New cases']!=0\n",
        "temp['New cases reported ?'] = temp['New cases reported ?'].astype(int)\n",
        "# temp.head()"
      ],
      "execution_count": null,
      "outputs": []
    },
    {
      "metadata": {
        "_kg_hide-input": true,
        "trusted": true,
        "id": "LChHC07ZoyJE"
      },
      "cell_type": "code",
      "source": [
        "fig = go.Figure(data=go.Heatmap(\n",
        "        z=temp['New cases reported ?'],\n",
        "        x=temp['Date'],\n",
        "        y=temp['Country/Region'],\n",
        "        colorscale='Emrld',\n",
        "        showlegend=False,\n",
        "        text=temp['New cases reported ?']))\n",
        "\n",
        "fig.update_layout(yaxis = dict(dtick = 1))\n",
        "fig.update_layout(height=3000)\n",
        "fig.show()"
      ],
      "execution_count": null,
      "outputs": []
    },
    {
      "metadata": {
        "trusted": true,
        "_kg_hide-input": true,
        "id": "htuUhW0VoyJE"
      },
      "cell_type": "markdown",
      "source": [
        "# Running Bar Chart"
      ]
    },
    {
      "metadata": {
        "id": "j844qeAUoyJF"
      },
      "cell_type": "markdown",
      "source": [
        "https://app.flourish.studio/visualisation/1571387/edit\n",
        "\n"
      ]
    },
    {
      "metadata": {
        "trusted": true,
        "id": "0s_8OKskoyJF"
      },
      "cell_type": "code",
      "source": [
        "# HTML('''<div class=\"flourish-embed flourish-bar-chart-race\" data-src=\"visualisation/1571387\"><script src=\"https://public.flourish.studio/resources/embed.js\"></script></div>''')"
      ],
      "execution_count": null,
      "outputs": []
    },
    {
      "metadata": {
        "id": "eNRReG77oyJF"
      },
      "cell_type": "markdown",
      "source": [
        "# Country Wise"
      ]
    },
    {
      "metadata": {
        "_kg_hide-input": true,
        "trusted": true,
        "id": "5CaIRhE5oyJF"
      },
      "cell_type": "code",
      "source": [
        "# temp = full_table.groupby(['Country/Region', 'Date', ])['Confirmed', 'Deaths']\n",
        "# temp = temp.sum().diff().reset_index()\n",
        "\n",
        "# mask = temp['Country/Region'] != temp['Country/Region'].shift(1)\n",
        "\n",
        "# temp.loc[mask, 'Confirmed'] = np.nan\n",
        "# temp.loc[mask, 'Deaths'] = np.nan\n",
        "\n",
        "# countries = full_table[full_table['Confirmed']>100000]['Country/Region'].unique()\n",
        "\n",
        "# temp = temp[temp['Country/Region'].isin(countries)]\n",
        "\n",
        "\n",
        "# n_cols = 3\n",
        "# n_rows = math.ceil(len(countries)/n_cols)\n",
        "\n",
        "# fig = make_subplots(rows=n_rows, cols=n_cols, shared_xaxes=False, subplot_titles=countries)\n",
        "\n",
        "# for ind, country in enumerate(countries):\n",
        "#     row = int((ind/n_cols)+1)\n",
        "#     col = int((ind%n_cols)+1)\n",
        "#     fig.add_trace(go.Bar(x=temp['Date'], y=temp.loc[temp['Country/Region']==country, 'Confirmed'], name=country), row=row, col=col)\n",
        "\n",
        "# fig.update_layout(height=4000, title_text=\"No. of new cases in each Country\")\n",
        "# fig.update_layout(showlegend=False)\n",
        "# fig.show()"
      ],
      "execution_count": null,
      "outputs": []
    },
    {
      "metadata": {
        "id": "R3Gl5kQRoyJF"
      },
      "cell_type": "markdown",
      "source": [
        "# Comparison with similar epidemics"
      ]
    },
    {
      "metadata": {
        "id": "CNR1eyLDoyJF"
      },
      "cell_type": "markdown",
      "source": [
        "https://www.kaggle.com/imdevskp/covid19-vs-sars-vs-mers-vs-ebola-vs-h1n1\n",
        "\n"
      ]
    },
    {
      "metadata": {
        "id": "bC68xJ5soyJF"
      },
      "cell_type": "markdown",
      "source": [
        "# Analysis on similar pandemic/epidemic/outbreak"
      ]
    },
    {
      "metadata": {
        "id": "2qH-LE8goyJG"
      },
      "cell_type": "markdown",
      "source": [
        "https://www.kaggle.com/imdevskp/mers-outbreak-analysis  \n",
        "https://www.kaggle.com/imdevskp/sars-2003-outbreak-analysis  \n",
        "https://www.kaggle.com/imdevskp/western-africa-ebola-outbreak-analysis\n"
      ]
    },
    {
      "metadata": {
        "id": "IjFwjmSKoyJG"
      },
      "cell_type": "markdown",
      "source": [
        "# USA"
      ]
    },
    {
      "metadata": {
        "trusted": true,
        "id": "r0tvJMEJoyJG"
      },
      "cell_type": "code",
      "source": [
        "usa_df = pd.read_csv('../input/corona-virus-report/usa_county_wise.csv')\n",
        "usa_latest = usa_df[usa_df['Date'] == max(usa_df['Date'])]\n",
        "usa_grouped = usa_latest.groupby('Province_State')['Confirmed', 'Deaths'].sum().reset_index()"
      ],
      "execution_count": null,
      "outputs": []
    },
    {
      "metadata": {
        "_kg_hide-input": true,
        "trusted": true,
        "id": "JeSssfcEoyJG"
      },
      "cell_type": "code",
      "source": [
        "us_code = {'Alabama': 'AL', 'Alaska': 'AK', 'American Samoa': 'AS', 'Arizona': 'AZ', 'Arkansas': 'AR',\n",
        "    'California': 'CA','Colorado': 'CO','Connecticut': 'CT','Delaware': 'DE', 'District of Columbia': 'DC',\n",
        "    'Florida': 'FL', 'Georgia': 'GA', 'Guam': 'GU', 'Hawaii': 'HI', 'Idaho': 'ID', 'Illinois': 'IL',\n",
        "    'Indiana': 'IN','Iowa': 'IA','Kansas': 'KS','Kentucky': 'KY','Louisiana': 'LA','Maine': 'ME',\n",
        "    'Maryland': 'MD','Massachusetts': 'MA','Michigan': 'MI','Minnesota': 'MN','Mississippi': 'MS',\n",
        "    'Missouri': 'MO','Montana': 'MT','Nebraska': 'NE','Nevada': 'NV','New Hampshire': 'NH', 'New Jersey': 'NJ',\n",
        "    'New Mexico': 'NM', 'New York': 'NY', 'North Carolina': 'NC', 'North Dakota': 'ND', 'Northern Mariana Islands':'MP',\n",
        "    'Ohio': 'OH', 'Oklahoma': 'OK', 'Oregon': 'OR', 'Pennsylvania': 'PA', 'Puerto Rico': 'PR',\n",
        "    'Rhode Island': 'RI', 'South Carolina': 'SC', 'South Dakota': 'SD', 'Tennessee': 'TN', 'Texas': 'TX',\n",
        "    'Utah': 'UT', 'Vermont': 'VT', 'Virgin Islands': 'VI', 'Virginia': 'VA', 'Washington': 'WA',\n",
        "    'West Virginia': 'WV', 'Wisconsin': 'WI', 'Wyoming': 'WY'}\n",
        "\n",
        "usa_grouped['Code'] = usa_grouped['Province_State'].map(us_code)"
      ],
      "execution_count": null,
      "outputs": []
    },
    {
      "metadata": {
        "trusted": true,
        "id": "FgzpQjokoyJG"
      },
      "cell_type": "code",
      "source": [
        "fig = px.choropleth(usa_grouped, color='Confirmed', locations='Code', locationmode=\"USA-states\",\n",
        "                    scope=\"usa\", color_continuous_scale=\"RdGy\", title='No. of cases in USA')\n",
        "fig"
      ],
      "execution_count": null,
      "outputs": []
    },
    {
      "metadata": {
        "trusted": true,
        "id": "wANRUEOwoyJG"
      },
      "cell_type": "code",
      "source": [
        "# with urlopen('https://raw.githubusercontent.com/plotly/datasets/master/geojson-counties-fips.json') as response:\n",
        "#     counties = json.load(response)\n",
        "\n",
        "# fig = px.choropleth(usa_latest, geojson=counties, locations='FIPS', color='Confirmed',\n",
        "#                            color_continuous_scale=\"Peach\",\n",
        "#                            scope=\"usa\",\n",
        "#                            labels={'Confirmed':'Confirmed'})\n",
        "# fig.update_layout(margin={\"r\":0,\"t\":0,\"l\":0,\"b\":0})\n",
        "# fig.show()"
      ],
      "execution_count": null,
      "outputs": []
    },
    {
      "metadata": {
        "id": "0eyYalWHoyJG"
      },
      "cell_type": "markdown",
      "source": [
        "# WHO Region Wise"
      ]
    },
    {
      "metadata": {
        "id": "kbaomMvOoyJH"
      },
      "cell_type": "markdown",
      "source": [
        "> *https://en.wikipedia.org/wiki/WHO_regions*"
      ]
    },
    {
      "metadata": {
        "trusted": true,
        "_kg_hide-input": true,
        "id": "i_43YHghoyJH"
      },
      "cell_type": "code",
      "source": [
        "who = country_wise.groupby('WHO Region')['Confirmed', 'Deaths', 'Recovered', 'Active',\n",
        "                                         'New cases', 'Confirmed last week'].sum().reset_index()\n",
        "who['Fatality Rate'] = round((who['Deaths'] / who['Confirmed']) * 100, 2)\n",
        "who['Recovery Rate'] = (who['Recovered'] / who['Confirmed']) * 100\n",
        "\n",
        "who_g = full_grouped.groupby(['WHO Region', 'Date'])['Confirmed', 'Deaths', 'Recovered',\n",
        "                                                     'Active','New cases', 'New deaths'].sum().reset_index()"
      ],
      "execution_count": null,
      "outputs": []
    },
    {
      "metadata": {
        "_kg_hide-input": true,
        "trusted": true,
        "id": "4pztvDleoyJH"
      },
      "cell_type": "code",
      "source": [
        "def plot_hbar(col, hover_data=[]):\n",
        "    fig = px.bar(who.sort_values(col),\n",
        "                 x=col, y=\"WHO Region\", color='WHO Region',\n",
        "                 text=col, orientation='h', width=700, hover_data=hover_data,\n",
        "                 color_discrete_sequence = px.colors.qualitative.Dark2)\n",
        "    fig.update_layout(title=col, xaxis_title=\"\", yaxis_title=\"\",\n",
        "                      yaxis_categoryorder = 'total ascending',\n",
        "                      uniformtext_minsize=8, uniformtext_mode='hide')\n",
        "    fig.show()"
      ],
      "execution_count": null,
      "outputs": []
    },
    {
      "metadata": {
        "_kg_hide-input": true,
        "trusted": true,
        "id": "CfNQ5cytoyJH"
      },
      "cell_type": "code",
      "source": [
        "plot_hbar('Confirmed')"
      ],
      "execution_count": null,
      "outputs": []
    },
    {
      "metadata": {
        "_kg_hide-input": true,
        "trusted": true,
        "id": "MRsG5pTloyJI"
      },
      "cell_type": "code",
      "source": [
        "plot_hbar('Deaths')"
      ],
      "execution_count": null,
      "outputs": []
    },
    {
      "metadata": {
        "_kg_hide-input": true,
        "trusted": true,
        "id": "H7nA0OGPoyJI"
      },
      "cell_type": "code",
      "source": [
        "plot_hbar('Fatality Rate')"
      ],
      "execution_count": null,
      "outputs": []
    },
    {
      "metadata": {
        "_kg_hide-input": true,
        "trusted": true,
        "id": "O9IAcYwyoyJI"
      },
      "cell_type": "code",
      "source": [
        "temp = worldometer_data[worldometer_data['WHO Region']!=0]"
      ],
      "execution_count": null,
      "outputs": []
    },
    {
      "metadata": {
        "trusted": true,
        "_kg_hide-input": true,
        "id": "AWEXxLSHoyJJ"
      },
      "cell_type": "code",
      "source": [
        "fig = px.scatter(temp, x='TotalCases', y='TotalDeaths', color='WHO Region',\n",
        "                 height=700, hover_name='Country/Region', log_x=True, log_y=True,\n",
        "                 title='Confirmed vs Deaths',\n",
        "                 color_discrete_sequence=px.colors.qualitative.Vivid)\n",
        "fig.update_traces(textposition='top center')\n",
        "# fig.update_layout(showlegend=False)\n",
        "# fig.update_layout(xaxis_rangeslider_visible=True)\n",
        "fig.show()"
      ],
      "execution_count": null,
      "outputs": []
    },
    {
      "metadata": {
        "_kg_hide-input": true,
        "trusted": true,
        "id": "CqZU-5b-oyJJ"
      },
      "cell_type": "code",
      "source": [
        "fig = px.scatter(temp, x='Population', y='TotalCases', color='WHO Region',\n",
        "                 height=700, hover_name='Country/Region', log_x=True, log_y=True,\n",
        "                 title='Population vs Confirmed',\n",
        "                 color_discrete_sequence=px.colors.qualitative.Vivid)\n",
        "fig.update_traces(textposition='top center')\n",
        "# fig.update_layout(showlegend=False)\n",
        "# fig.update_layout(xaxis_rangeslider_visible=True)\n",
        "fig.show()"
      ],
      "execution_count": null,
      "outputs": []
    },
    {
      "metadata": {
        "_kg_hide-input": true,
        "trusted": true,
        "id": "FLS508UGoyJJ"
      },
      "cell_type": "code",
      "source": [
        "px.bar(who_g, x=\"Date\", y=\"Confirmed\", color='WHO Region',\n",
        "       height=600, title='Confirmed',\n",
        "       color_discrete_sequence=px.colors.qualitative.Vivid)"
      ],
      "execution_count": null,
      "outputs": []
    },
    {
      "metadata": {
        "trusted": true,
        "_kg_hide-input": true,
        "id": "2ouovwSYoyJJ"
      },
      "cell_type": "code",
      "source": [
        "px.bar(who_g, x=\"Date\", y=\"New cases\", color='WHO Region',\n",
        "       height=600, title='New cases',\n",
        "       color_discrete_sequence=px.colors.qualitative.Vivid)"
      ],
      "execution_count": null,
      "outputs": []
    },
    {
      "metadata": {
        "trusted": true,
        "id": "YzF-5KkeoyJK"
      },
      "cell_type": "code",
      "source": [
        "px.box(worldometer_data, x='WHO Region', y='TotalCases', color='WHO Region',\n",
        "       title='Distribution of country wise no. of cases in different WHO Region')"
      ],
      "execution_count": null,
      "outputs": []
    },
    {
      "metadata": {
        "id": "JRFlaGskoyJK"
      },
      "cell_type": "markdown",
      "source": [
        "## Weekly Statistics"
      ]
    },
    {
      "metadata": {
        "_kg_hide-input": true,
        "trusted": true,
        "id": "8xBV6pezoyJK"
      },
      "cell_type": "code",
      "source": [
        "full_grouped['Week No.'] = full_grouped['Date'].dt.strftime('%U')\n",
        "week_wise = full_grouped.groupby('Week No.')['Confirmed', 'Deaths', 'Recovered', 'Active', 'New cases', 'New deaths', 'New recovered'].sum().reset_index()"
      ],
      "execution_count": null,
      "outputs": []
    },
    {
      "metadata": {
        "_kg_hide-input": true,
        "trusted": true,
        "id": "KZSuKRQ4oyJK"
      },
      "cell_type": "code",
      "source": [
        "def plot_weekwise(col, hue):\n",
        "    fig = px.bar(week_wise, x=\"Week No.\", y=col, width=700, color_discrete_sequence=[hue])\n",
        "    fig.update_layout(title=col, xaxis_title=\"\", yaxis_title=\"\")\n",
        "    fig.show()"
      ],
      "execution_count": null,
      "outputs": []
    },
    {
      "metadata": {
        "_kg_hide-input": true,
        "trusted": true,
        "id": "94YraR_KoyJL"
      },
      "cell_type": "code",
      "source": [
        "plot_weekwise('Confirmed', '#000000')"
      ],
      "execution_count": null,
      "outputs": []
    },
    {
      "metadata": {
        "_kg_hide-input": true,
        "trusted": true,
        "id": "rMQ807EyoyJL"
      },
      "cell_type": "code",
      "source": [
        "plot_weekwise('Deaths', dth)"
      ],
      "execution_count": null,
      "outputs": []
    },
    {
      "metadata": {
        "_kg_hide-input": true,
        "trusted": true,
        "id": "safJvKqtoyJL"
      },
      "cell_type": "code",
      "source": [
        "plot_weekwise('New cases', '#cd6684')"
      ],
      "execution_count": null,
      "outputs": []
    },
    {
      "metadata": {
        "id": "pT-Cy6L9oyJM"
      },
      "cell_type": "markdown",
      "source": [
        "## Monthly statistics"
      ]
    },
    {
      "metadata": {
        "_kg_hide-input": true,
        "trusted": true,
        "id": "v6tyUj--oyJM"
      },
      "cell_type": "code",
      "source": [
        "full_grouped['Month'] = pd.DatetimeIndex(full_grouped['Date']).month\n",
        "month_wise = full_grouped.groupby('Month')['Confirmed', 'Deaths', 'Recovered', 'Active', 'New cases', 'New deaths', 'New recovered'].sum().reset_index()"
      ],
      "execution_count": null,
      "outputs": []
    },
    {
      "metadata": {
        "_kg_hide-input": true,
        "trusted": true,
        "id": "LA7z0IUToyJM"
      },
      "cell_type": "code",
      "source": [
        "def plot_monthwise(col, hue):\n",
        "    fig = px.bar(month_wise, x=\"Month\", y=col, width=700, color_discrete_sequence=[hue])\n",
        "    fig.update_layout(title=col, xaxis_title=\"\", yaxis_title=\"\")\n",
        "    fig.show()"
      ],
      "execution_count": null,
      "outputs": []
    },
    {
      "metadata": {
        "_kg_hide-input": true,
        "trusted": true,
        "id": "yqhb46B2oyJM"
      },
      "cell_type": "code",
      "source": [
        "plot_monthwise('Confirmed', '#000000')"
      ],
      "execution_count": null,
      "outputs": []
    },
    {
      "metadata": {
        "_kg_hide-input": true,
        "trusted": true,
        "id": "33vxA0j2oyJN"
      },
      "cell_type": "code",
      "source": [
        "plot_monthwise('Deaths', dth)"
      ],
      "execution_count": null,
      "outputs": []
    },
    {
      "metadata": {
        "_kg_hide-input": true,
        "trusted": true,
        "id": "GXUAGLZLoyJN"
      },
      "cell_type": "code",
      "source": [
        "plot_monthwise('New cases', '#cd6684')"
      ],
      "execution_count": null,
      "outputs": []
    },
    {
      "metadata": {
        "id": "OLJO9BoFoyJN"
      },
      "cell_type": "markdown",
      "source": [
        "# Countries with no more active cases"
      ]
    },
    {
      "metadata": {
        "trusted": true,
        "id": "3Ie6HRVhoyJN"
      },
      "cell_type": "code",
      "source": [
        "temp = country_wise[country_wise['Active']==0]\n",
        "temp = temp.sort_values('Confirmed', ascending=False)\n",
        "temp.reset_index(drop=True)"
      ],
      "execution_count": null,
      "outputs": []
    },
    {
      "metadata": {
        "id": "js1aqSRToyJO"
      },
      "cell_type": "markdown",
      "source": [
        "# Healthy life expectancy vs Deaths / 100 Cases"
      ]
    },
    {
      "metadata": {
        "trusted": true,
        "id": "xnnWGCI3oyJO"
      },
      "cell_type": "code",
      "source": [
        "happiness_report = pd.read_csv('../input/world-happiness/2019.csv')\n",
        "happiness_report = happiness_report[['Country or region', 'Healthy life expectancy']]\n",
        "\n",
        "temp = country_wise.merge(happiness_report, left_on='Country/Region', right_on='Country or region')\n",
        "px.scatter(temp, y='Deaths / 100 Cases', x='Healthy life expectancy', color='WHO Region', hover_data=['Country/Region'])"
      ],
      "execution_count": null,
      "outputs": []
    }
  ],
  "metadata": {
    "kernelspec": {
      "language": "python",
      "display_name": "Python 3",
      "name": "python3"
    },
    "language_info": {
      "pygments_lexer": "ipython3",
      "nbconvert_exporter": "python",
      "version": "3.6.4",
      "file_extension": ".py",
      "codemirror_mode": {
        "name": "ipython",
        "version": 3
      },
      "name": "python",
      "mimetype": "text/x-python"
    },
    "colab": {
      "name": "COVID-19 - Analysis, Visualization & Comparisons",
      "provenance": []
    }
  },
  "nbformat": 4,
  "nbformat_minor": 0
}